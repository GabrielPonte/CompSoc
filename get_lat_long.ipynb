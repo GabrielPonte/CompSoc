{
 "cells": [
  {
   "cell_type": "code",
   "execution_count": 1,
   "id": "d544f873",
   "metadata": {},
   "outputs": [],
   "source": [
    "import pandas as pd\n",
    "import time\n",
    "import numpy as np\n",
    "from geopy.geocoders import Nominatim\n"
   ]
  },
  {
   "cell_type": "code",
   "execution_count": 2,
   "id": "59a67163",
   "metadata": {},
   "outputs": [
    {
     "name": "stdout",
     "output_type": "stream",
     "text": [
      "[-22.5286917, -55.723426, 'Mato Grosso do Sul', 'Ponta Porã', 'Ponta Porã', 'Ita', 1, 0]\n",
      "[-22.2206145, -54.812208, 'Mato Grosso do Sul', 'Dourados', 'Dourados', 'Pirê', 1, 0]\n",
      "[-20.4832458, -55.8048448, 'Mato Grosso do Sul', 'Anastácio', 'Anastácio', 'Pantanal', 1, 0]\n",
      "[-16.4603533, -54.6397099, 'Mato Grosso', 'Rondonópolis', 'Rondonópolis', 'Cerrado', 1, 0]\n",
      "[-9.8698547, -56.0834993, 'Mato Grosso', 'Alta Floresta', 'Alta Floresta', 'Raiz', 1, 0]\n",
      "[-15.5986686, -56.0991301, 'Mato Grosso', 'S.I', 'Cuiabá', 'Aroeira', 0, 1]\n",
      "[-18.6969307, -40.3934634, 'Espírito Santo', 'Rubia', 'Nova Venécia', 'Kiri-Kere', 1, 0]\n",
      "[-20.5835656, -41.7613221, 'Espírito Santo', 'Patrimônio da Penha', 'Divino de São Lourenço', 'Caparao', 1, 0]\n",
      "[-20.1293025, -40.2809199, 'Espírito Santo', 'Planalto Serrano', 'Serra', 'ABraÇo', 1, 0]\n",
      "[-20.2194255, -40.2753505, 'Espírito Santo', 'Central Carapina', 'Serra', 'Passarela', 1, 0]\n",
      "[-20.1814623, -40.21015, 'Espírito Santo', 'Vila Nova de Colares', 'Serra', 'Viver', 1, 0]\n",
      "[-20.2721397, -40.3268749, 'Espírito Santo', 'Nova Palestina', 'São Pedro', 'Puã', 1, 0]\n",
      "[-20.3333586, -40.4295698, 'Espírito Santo', 'Vista Dourada', 'Cariacica', 'Sol', 1, 0]\n",
      "[-20.3200917, -40.3376682, 'Espírito Santo', 'S.I', 'Vitória', 'Bem de Perto Andorinhas', 0, 1]\n",
      "[-20.3200917, -40.3376682, 'Espírito Santo', 'S.I', 'Vitória', 'Bem de Perto', 0, 1]\n",
      "[-18.7381714, -39.8612654, 'Espírito Santo', 'São Benedito', 'Vitória', 'Bem', 1, 0]\n",
      "[-18.0828478, -40.09614486183402, 'Espírito Santo', 'Cristal do Norte', 'Pedro Canário', 'União', 1, 0]\n",
      "[-20.263202, -40.416549, 'Espírito Santo', 'Nova Rosa da Penha II', 'Cariacica', 'Esperança', 0, 1]\n",
      "[-20.3436454, -40.3238591, 'Espírito Santo', 'Ataíde', 'Vila Velha', 'Verde Vida', 1, 0]\n",
      "[-20.4434487, -40.3514806, 'Espírito Santo', 'Terra Vermelha', 'Vila Velha', 'Terra', 1, 0]\n",
      "[-20.15935905, -40.1853349102815, 'Espírito Santo', 'Jacaraípe', 'Serra', 'Mar', 1, 0]\n",
      "[-23.5234673, -46.8406808, 'São Paulo', 'Carapicuiba', 'Carapicuiba', 'Tonato', 1, 0]\n",
      "[-23.5716262, -46.399928, 'São Paulo', 'Inácio Monteiro', 'São Paulo', 'Paulo Freire', 1, 0]\n",
      "[-23.4524735, -46.5856689, 'São Paulo', 'Jardim Apuanã', 'São Paulo', 'Apuanã', 1, 0]\n",
      "[-21.73366905, -47.8515182775, 'São Paulo', 'Santa Eudoxia', 'São Carlos', 'Santa Eudoxia', 1, 0]\n",
      "[-22.0439036, -47.8930464, 'São Paulo', 'Jardim Gonzaga', 'São Carlos', 'Nascente', 1, 0]\n",
      "[-23.6739274, -46.7407377, 'São Paulo', 'Jardim São Luís', 'São Paulo', 'Autogestão', 1, 0]\n",
      "[-23.644507150000003, -46.78521514207762, 'São Paulo', 'Jardim Maria Sampaio', 'São Paulo', 'União Sampaio', 1, 0]\n",
      "[-23.7374247, -46.5350171, 'São Paulo', 'Jardim Silvina', 'São Bernardo do Campo', 'Padre Leo Commissari', 1, 0]\n",
      "[-23.48206, -48.1359704, 'São Paulo', 'Fazendinha', 'Santana do Parnaíba', 'Ativa FZA', 1, 0]\n",
      "[-22.2475128, -49.9425321, 'São Paulo', 'Vila Real', 'Várzea Paulista', 'Orquídea', 1, 0]\n",
      "[-22.9130257, -43.1822358, 'Rio de Janeiro', 'Lapa', 'Rio de Janeiro', 'Cultura', 1, 0]\n",
      "[-22.94803, -43.362903, 'Rio de Janeiro', 'Cidade de Deus', 'Rio de Janeiro', 'Cidade de Deus', 1, 0]\n",
      "[-22.8884, -43.1147, 'Rio de Janeiro', 'Niteroi', 'Rio de Janeiro', 'Fundinho', 1, 0]\n",
      "[-22.9292, -43.0967, 'Rio de Janeiro', 'Charitas', 'Niterói', 'Preventório', 1, 0]\n",
      "[-22.6509706, -42.3947353, 'Rio de Janeiro', 'Silva Jardim', 'Silva Jardim', 'Capivari', 1, 0]\n",
      "[-22.9059188, -42.7926326, 'Rio de Janeiro', 'Marica', 'Marica', 'Mumbuca', 1, 0]\n",
      "[-22.8884, -43.1147, 'Rio de Janeiro', 'Niteroi', 'Niteroi', 'Arariboia', 1, 0]\n",
      "[-15.2946253, -45.6284904, 'Minas Gerais', 'Chapada Gaúcha', 'Chapada Gaúcha', 'Chapadense', 1, 0]\n",
      "[-19.7613111, -44.3145945, 'Minas Gerais', 'Esmeraldas', 'Esmeraldas', 'Esmeralda', 1, 0]\n",
      "[-17.8756111, -41.5046009, 'Minas Gerais', 'Teófilo Rocha', 'Teófilo Otoni', 'Banclisa', 1, 0]\n",
      "[-27.5967024, -48.5270263, 'Santa Catarina', 'Serrinha', 'Florianópolis', 'ICOM', 1, 0]\n",
      "[-26.3637077, -48.8294686, 'Santa Catarina', 'Chico  Mendes', 'Florianópolis', 'ICOM', 1, 0]\n",
      "[-26.713218849999997, -49.48483718133059, 'Santa Catarina', 'Nossa  Senhora da Glória', 'Florianópolis', 'ICOM', 1, 0]\n",
      "[-26.4465656, -52.8319931, 'Santa Catarina', 'Novo  Horizonte', 'Florianópolis', 'ICOM', 1, 0]\n",
      "[-27.5906209, -48.6013611, 'Santa Catarina', 'Monte Cristo', 'Florianópolis', 'ICOM', 1, 0]\n",
      "[-27.606979449999997, -48.54452672744959, 'Santa Catarina', 'Morro do Mocotó', 'Florianópolis', 'ICOM', 1, 0]\n",
      "[-27.5973002, -48.5496098, 'Santa Catarina', 'Comunidade da Praia', 'Florianópolis', 'ICOM', 0, 1]\n",
      "[-27.6824506, -48.4905604, 'Santa Catarina', 'Campeche', 'Florianópolis', 'Costeira', 1, 0]\n",
      "[-27.942, -52.923085, 'Rio Grande do Sul', 'Sarandi', 'Porto Alegre', 'Banco  Justa Troca', 1, 0]\n",
      "[-30.09015315, -51.18088778172944, 'Rio Grande do Sul', 'Vila  1o. De Maio', 'Porto Alegre', 'Banco Cascata', 1, 0]\n",
      "[-22.858357645798264, -43.230711244463144, 'Rio Grande do Sul', 'S.I', 'S.I', 'Banco Grão', 0, 0]\n"
     ]
    }
   ],
   "source": [
    "df = pd.read_csv('C:\\\\Users\\\\Cliente\\\\Documents\\\\Compsoc\\\\csv_mapas_comunitarios.csv', encoding='utf8',sep=\";\")\n",
    "geolocator = Nominatim(user_agent=\"my_user_agent\")\n",
    "lista = []\n",
    "for index, row in df.iterrows():\n",
    "    bool_b = 0 #bairro selecionado\n",
    "    bool_m = 0 #municipio selecionado\n",
    "    estado = row[\"estado\"]\n",
    "    bairro = row[\"bairro\"]\n",
    "    municipio = row[\"municipio\"]\n",
    "    banco = row[\"banco\"]\n",
    "    country =\"BR\"\n",
    "    city = bairro\n",
    "    state = estado\n",
    "    # try bairro\n",
    "    if bairro != \"S.I\":\n",
    "        try:\n",
    "            loc = geolocator.geocode(city+','+ state+','+ country)\n",
    "            lat = loc.latitude\n",
    "            lon = loc.longitude\n",
    "            bool_b = 1\n",
    "        except:\n",
    "            bool_b = 0\n",
    "    # try municipio\n",
    "    if municipio != \"S.I\" and bool_b == 0:\n",
    "        bool_m = 1\n",
    "        city = municipio\n",
    "        try:\n",
    "            loc = geolocator.geocode(city+','+ state+','+ country)\n",
    "            lat = loc.latitude\n",
    "            lon = loc.longitude\n",
    "            bool_m = 1\n",
    "        except:\n",
    "            bool_m = 0\n",
    "    # not found -> UFRJ\n",
    "    if bool_b == 0 and bool_m == 0:\n",
    "        lat = -22.858357645798264\n",
    "        lon = -43.230711244463144  \n",
    "    my_array_i = [lat,lon,estado,bairro,municipio,banco,bool_b,bool_m]\n",
    "    print(my_array_i)\n",
    "    lista.append(my_array_i)"
   ]
  },
  {
   "cell_type": "code",
   "execution_count": 3,
   "id": "99211de9",
   "metadata": {},
   "outputs": [],
   "source": [
    "new_df = pd.DataFrame(np.array(lista), columns =['latitude','longitude','estado','bairro','municipio','banco','bool_bairro','bool_municipio'])\n",
    "new_df.to_csv(\"bancos_python.csv\",header=True, index=False,encoding='utf-8-sig')"
   ]
  },
  {
   "cell_type": "code",
   "execution_count": null,
   "id": "99524196",
   "metadata": {},
   "outputs": [],
   "source": []
  },
  {
   "cell_type": "code",
   "execution_count": null,
   "id": "176cb11b",
   "metadata": {},
   "outputs": [],
   "source": []
  }
 ],
 "metadata": {
  "kernelspec": {
   "display_name": "Python 3 (ipykernel)",
   "language": "python",
   "name": "python3"
  },
  "language_info": {
   "codemirror_mode": {
    "name": "ipython",
    "version": 3
   },
   "file_extension": ".py",
   "mimetype": "text/x-python",
   "name": "python",
   "nbconvert_exporter": "python",
   "pygments_lexer": "ipython3",
   "version": "3.8.12"
  },
  "latex_envs": {
   "LaTeX_envs_menu_present": true,
   "autoclose": false,
   "autocomplete": true,
   "bibliofile": "biblio.bib",
   "cite_by": "apalike",
   "current_citInitial": 1,
   "eqLabelWithNumbers": true,
   "eqNumInitial": 1,
   "hotkeys": {
    "equation": "Ctrl-E",
    "itemize": "Ctrl-I"
   },
   "labels_anchors": false,
   "latex_user_defs": false,
   "report_style_numbering": false,
   "user_envs_cfg": false
  },
  "toc": {
   "base_numbering": 1,
   "nav_menu": {},
   "number_sections": true,
   "sideBar": true,
   "skip_h1_title": false,
   "title_cell": "Table of Contents",
   "title_sidebar": "Contents",
   "toc_cell": false,
   "toc_position": {},
   "toc_section_display": true,
   "toc_window_display": false
  }
 },
 "nbformat": 4,
 "nbformat_minor": 5
}
